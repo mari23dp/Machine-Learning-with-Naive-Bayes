{
  "nbformat": 4,
  "nbformat_minor": 0,
  "metadata": {
    "colab": {
      "provenance": []
    },
    "kernelspec": {
      "name": "ir",
      "display_name": "R"
    },
    "language_info": {
      "name": "R"
    }
  },
  "cells": [
    {
      "cell_type": "markdown",
      "source": [
        "# Enunciado:\n",
        "\n",
        "La base de datos “caso1a.xlsx” contiene el registro de 7261 clientes actuales de un supermercado con las siguientes variables:\n",
        "\n",
        "•\tGenero: género declarado por la persona\n",
        "•\tEstadocivil: estado civil declarado por la persona\n",
        "•\tEdad: Edad declarada por la persona\n",
        "•\tVIviendaPropia: información traída de una base externa sobre si la persona posee o no vivienda propia\n",
        "•\tCompra: el resultado de compra a una oferta de seguros de hogar (contenidos de la casa y reparaciones).\n",
        "\n",
        "Desarrolle un modelo Naive Bayes para predecir la posible compra de futuros clientes de los que se posee la misma información.\n"
      ],
      "metadata": {
        "id": "lJ22k9bRALyt"
      }
    },
    {
      "cell_type": "code",
      "source": [
        "if (!require('readxl')) install.packages('readxl')\n",
        "if (!require('caret')) install.packages('caret')\n",
        "if (!require('MLmetrics')) install.packages('MLmetrics')\n",
        "if (!require('e1071')) install.packages('e1071')"
      ],
      "metadata": {
        "id": "HqVX28ASaoDa"
      },
      "execution_count": null,
      "outputs": []
    },
    {
      "cell_type": "code",
      "execution_count": null,
      "metadata": {
        "id": "8pJ_LP61aai0"
      },
      "outputs": [],
      "source": [
        "library(readxl)\n",
        "library(caret)\n",
        "library(MLmetrics)\n",
        "library(ROCR)\n",
        "library(e1071)"
      ]
    },
    {
      "cell_type": "markdown",
      "source": [
        "Trabajaremos con el contexto del archivo de cartera de empresas. Para mantener los libros de nota modulares, repetiré aquí el contexto:"
      ],
      "metadata": {
        "id": "MYWBGlMxA5u2"
      }
    },
    {
      "cell_type": "markdown",
      "source": [
        "# ***  Naive Bayes (Bayes ingenuo) ***"
      ],
      "metadata": {
        "id": "ORAcq9dwBrnG"
      }
    },
    {
      "cell_type": "markdown",
      "source": [
        "# Data and business understanding"
      ],
      "metadata": {
        "id": "MWlbPAzOBw4W"
      }
    },
    {
      "cell_type": "code",
      "source": [
        "caso1a<-read_excel(\"/content/caso1a.xlsx\")\n",
        "str(caso1a)\n",
        "head(caso1a)"
      ],
      "metadata": {
        "id": "l6zdoQGP_BPN",
        "colab": {
          "base_uri": "https://localhost:8080/",
          "height": 390
        },
        "outputId": "ef3def16-52c2-410b-fec6-7622bb1d5cb6"
      },
      "execution_count": null,
      "outputs": [
        {
          "output_type": "stream",
          "name": "stdout",
          "text": [
            "tibble [7,260 × 5] (S3: tbl_df/tbl/data.frame)\n",
            " $ Genero        : chr [1:7260] \"FEMENINO\" \"FEMENINO\" \"MASCULINO\" \"FEMENINO\" ...\n",
            " $ estadocivil   : chr [1:7260] \"VIUDO\" \"CASADO\" \"SOLTERO\" \"SOLTERO\" ...\n",
            " $ edad          : chr [1:7260] \"51 - 60\" \"41 - 50\" \"41 - 50\" \"31 - 40\" ...\n",
            " $ ViviendaPropia: chr [1:7260] \"NO\" \"SI\" \"NO\" \"NO APLICA\" ...\n",
            " $ compra        : chr [1:7260] \"no\" \"no\" \"no\" \"si\" ...\n"
          ]
        },
        {
          "output_type": "display_data",
          "data": {
            "text/html": [
              "<table class=\"dataframe\">\n",
              "<caption>A tibble: 6 × 5</caption>\n",
              "<thead>\n",
              "\t<tr><th scope=col>Genero</th><th scope=col>estadocivil</th><th scope=col>edad</th><th scope=col>ViviendaPropia</th><th scope=col>compra</th></tr>\n",
              "\t<tr><th scope=col>&lt;chr&gt;</th><th scope=col>&lt;chr&gt;</th><th scope=col>&lt;chr&gt;</th><th scope=col>&lt;chr&gt;</th><th scope=col>&lt;chr&gt;</th></tr>\n",
              "</thead>\n",
              "<tbody>\n",
              "\t<tr><td>FEMENINO </td><td>VIUDO  </td><td>51 - 60</td><td>NO       </td><td>no</td></tr>\n",
              "\t<tr><td>FEMENINO </td><td>CASADO </td><td>41 - 50</td><td>SI       </td><td>no</td></tr>\n",
              "\t<tr><td>MASCULINO</td><td>SOLTERO</td><td>41 - 50</td><td>NO       </td><td>no</td></tr>\n",
              "\t<tr><td>FEMENINO </td><td>SOLTERO</td><td>31 - 40</td><td>NO APLICA</td><td>si</td></tr>\n",
              "\t<tr><td>MASCULINO</td><td>CASADO </td><td>41 - 50</td><td>SI       </td><td>no</td></tr>\n",
              "\t<tr><td>FEMENINO </td><td>VIUDO  </td><td>51 - 60</td><td>SI       </td><td>si</td></tr>\n",
              "</tbody>\n",
              "</table>\n"
            ],
            "text/markdown": "\nA tibble: 6 × 5\n\n| Genero &lt;chr&gt; | estadocivil &lt;chr&gt; | edad &lt;chr&gt; | ViviendaPropia &lt;chr&gt; | compra &lt;chr&gt; |\n|---|---|---|---|---|\n| FEMENINO  | VIUDO   | 51 - 60 | NO        | no |\n| FEMENINO  | CASADO  | 41 - 50 | SI        | no |\n| MASCULINO | SOLTERO | 41 - 50 | NO        | no |\n| FEMENINO  | SOLTERO | 31 - 40 | NO APLICA | si |\n| MASCULINO | CASADO  | 41 - 50 | SI        | no |\n| FEMENINO  | VIUDO   | 51 - 60 | SI        | si |\n\n",
            "text/latex": "A tibble: 6 × 5\n\\begin{tabular}{lllll}\n Genero & estadocivil & edad & ViviendaPropia & compra\\\\\n <chr> & <chr> & <chr> & <chr> & <chr>\\\\\n\\hline\n\t FEMENINO  & VIUDO   & 51 - 60 & NO        & no\\\\\n\t FEMENINO  & CASADO  & 41 - 50 & SI        & no\\\\\n\t MASCULINO & SOLTERO & 41 - 50 & NO        & no\\\\\n\t FEMENINO  & SOLTERO & 31 - 40 & NO APLICA & si\\\\\n\t MASCULINO & CASADO  & 41 - 50 & SI        & no\\\\\n\t FEMENINO  & VIUDO   & 51 - 60 & SI        & si\\\\\n\\end{tabular}\n",
            "text/plain": [
              "  Genero    estadocivil edad    ViviendaPropia compra\n",
              "1 FEMENINO  VIUDO       51 - 60 NO             no    \n",
              "2 FEMENINO  CASADO      41 - 50 SI             no    \n",
              "3 MASCULINO SOLTERO     41 - 50 NO             no    \n",
              "4 FEMENINO  SOLTERO     31 - 40 NO APLICA      si    \n",
              "5 MASCULINO CASADO      41 - 50 SI             no    \n",
              "6 FEMENINO  VIUDO       51 - 60 SI             si    "
            ]
          },
          "metadata": {}
        }
      ]
    },
    {
      "cell_type": "code",
      "source": [
        "#genero entrenamiento y validacion para cereal\n",
        "set.seed(039)\n",
        "sample <- sample.int(nrow(caso1a), floor(.5*nrow(caso1a)))\n",
        "caso.train <- caso1a[sample, ]\n",
        "caso.test <- caso1a[-sample, ]"
      ],
      "metadata": {
        "id": "7y3mb7M-_Mse"
      },
      "execution_count": null,
      "outputs": []
    },
    {
      "cell_type": "markdown",
      "source": [
        "# Modelling"
      ],
      "metadata": {
        "id": "H1nak0QvG_kI"
      }
    },
    {
      "cell_type": "markdown",
      "source": [
        "La creación del modelo de Naive Bayes es relativamente simple, pues no existen hiperparámetros por sintonizar o parámetros a entrenar. Se trata simplemente de calcular las probabilidades de la categoría a predecir a partir de las categorías de las predictoras, suponiendo independencia entre ellas usando el Teorema de Bayes."
      ],
      "metadata": {
        "id": "DoxdLc5XHA3H"
      }
    },
    {
      "cell_type": "code",
      "source": [
        "naivetest<-naiveBayes(caso.train$compra~.,caso.train)\n",
        "head(naivetest)"
      ],
      "metadata": {
        "id": "DqX2t43-_TpN",
        "colab": {
          "base_uri": "https://localhost:8080/",
          "height": 781
        },
        "outputId": "107fe9a9-f22a-45f5-9626-15df2a5aa80f"
      },
      "execution_count": null,
      "outputs": [
        {
          "output_type": "display_data",
          "data": {
            "text/plain": [
              "$apriori\n",
              "Y\n",
              "  no   si \n",
              "2404 1226 \n",
              "\n",
              "$tables\n",
              "$tables$Genero\n",
              "    Genero\n",
              "Y     FEMENINO MASCULINO\n",
              "  no 0.5166389 0.4833611\n",
              "  si 0.3882545 0.6117455\n",
              "\n",
              "$tables$estadocivil\n",
              "    estadocivil\n",
              "Y         CASADO  DIVORCIADO    SEPARADO     SOLTERO  UNIÓN LIBR       VIUDO\n",
              "  no 0.205074875 0.008319468 0.014559068 0.730449251 0.031613977 0.009983361\n",
              "  si 0.432300163 0.012234910 0.021207178 0.505709625 0.023654160 0.004893964\n",
              "\n",
              "$tables$edadcat\n",
              "    edadcat\n",
              "Y         0 - 17     18 - 22     23 - 30     31 - 40     41 - 50     51 - 60\n",
              "  no 0.002754821 0.011478421 0.146005510 0.405417815 0.191000918 0.121671258\n",
              "  si 0.000000000 0.005054760 0.058972199 0.189553496 0.403538332 0.271272115\n",
              "    edadcat\n",
              "Y        61 - 70     71 - 80\n",
              "  no 0.089531680 0.032139578\n",
              "  si 0.053074979 0.018534120\n",
              "\n",
              "$tables$ViviendaPropia\n",
              "    ViviendaPropia\n",
              "Y           NO NO APLICA        SI\n",
              "  no 0.5158070 0.1580699 0.3261231\n",
              "  si 0.4738989 0.1003263 0.4257749\n",
              "\n",
              "\n",
              "$levels\n",
              "[1] \"no\" \"si\"\n",
              "\n",
              "$isnumeric\n",
              "        Genero    estadocivil        edadcat ViviendaPropia \n",
              "         FALSE          FALSE          FALSE          FALSE \n",
              "\n",
              "$call\n",
              "naiveBayes.default(x = X, y = Y, laplace = laplace)\n"
            ]
          },
          "metadata": {}
        }
      ]
    },
    {
      "cell_type": "markdown",
      "source": [
        "Un resultado a observar son las probabilidades a priori, que corresponden simplemente a las tasas base de las categorías a predecir. El segundo resultado a observar son** las probabilidades marginales del predictor dada la categoría a predecir.**"
      ],
      "metadata": {
        "id": "Gz16uOnoHq3R"
      }
    },
    {
      "cell_type": "code",
      "source": [
        "#tasas base\n",
        "naivetest$apriori"
      ],
      "metadata": {
        "id": "-ZR_4slK_VR1",
        "colab": {
          "base_uri": "https://localhost:8080/",
          "height": 69
        },
        "outputId": "1fb763e3-6178-4457-fb2c-f92af514c650"
      },
      "execution_count": null,
      "outputs": [
        {
          "output_type": "display_data",
          "data": {
            "text/plain": [
              "Y\n",
              "  no   si \n",
              "2404 1226 "
            ]
          },
          "metadata": {}
        }
      ]
    },
    {
      "cell_type": "code",
      "source": [
        "#probabilidades marginales\n",
        "naivetest$tables$Genero"
      ],
      "metadata": {
        "id": "5T0NQ-n-_Wv_",
        "colab": {
          "base_uri": "https://localhost:8080/",
          "height": 86
        },
        "outputId": "7c0ad30d-61b5-4ca9-ca21-9d6fdf342e7f"
      },
      "execution_count": null,
      "outputs": [
        {
          "output_type": "display_data",
          "data": {
            "text/plain": [
              "    Genero\n",
              "Y     FEMENINO MASCULINO\n",
              "  no 0.5166389 0.4833611\n",
              "  si 0.3882545 0.6117455"
            ]
          },
          "metadata": {}
        }
      ]
    },
    {
      "cell_type": "code",
      "source": [
        "naivetest$tables$edadcat\n"
      ],
      "metadata": {
        "id": "Pa00z3KjH6Bk",
        "colab": {
          "base_uri": "https://localhost:8080/",
          "height": 156
        },
        "outputId": "c66211ed-491d-4e63-c9fa-7e11fd4fd20a"
      },
      "execution_count": null,
      "outputs": [
        {
          "output_type": "display_data",
          "data": {
            "text/plain": [
              "    edadcat\n",
              "Y         0 - 17     18 - 22     23 - 30     31 - 40     41 - 50     51 - 60\n",
              "  no 0.002754821 0.011478421 0.146005510 0.405417815 0.191000918 0.121671258\n",
              "  si 0.000000000 0.005054760 0.058972199 0.189553496 0.403538332 0.271272115\n",
              "    edadcat\n",
              "Y        61 - 70     71 - 80\n",
              "  no 0.089531680 0.032139578\n",
              "  si 0.053074979 0.018534120"
            ]
          },
          "metadata": {}
        }
      ]
    },
    {
      "cell_type": "code",
      "source": [
        "naivetest$tables$estadocivil\n"
      ],
      "metadata": {
        "id": "uBPoIO7AH7F3",
        "colab": {
          "base_uri": "https://localhost:8080/",
          "height": 86
        },
        "outputId": "c96294f6-58aa-417b-fc82-d6f545a26f3a"
      },
      "execution_count": null,
      "outputs": [
        {
          "output_type": "display_data",
          "data": {
            "text/plain": [
              "    estadocivil\n",
              "Y         CASADO  DIVORCIADO    SEPARADO     SOLTERO  UNIÓN LIBR       VIUDO\n",
              "  no 0.205074875 0.008319468 0.014559068 0.730449251 0.031613977 0.009983361\n",
              "  si 0.432300163 0.012234910 0.021207178 0.505709625 0.023654160 0.004893964"
            ]
          },
          "metadata": {}
        }
      ]
    },
    {
      "cell_type": "code",
      "source": [
        "naivetest$tables$ViviendaPropia"
      ],
      "metadata": {
        "id": "v7K496KNH9WK",
        "colab": {
          "base_uri": "https://localhost:8080/",
          "height": 86
        },
        "outputId": "3dbd4545-f136-4b2a-8a3e-bb279456605d"
      },
      "execution_count": null,
      "outputs": [
        {
          "output_type": "display_data",
          "data": {
            "text/plain": [
              "    ViviendaPropia\n",
              "Y           NO NO APLICA        SI\n",
              "  no 0.5158070 0.1580699 0.3261231\n",
              "  si 0.4738989 0.1003263 0.4257749"
            ]
          },
          "metadata": {}
        }
      ]
    },
    {
      "cell_type": "markdown",
      "source": [
        "La primera tabla nos permite ver una base de datos bastante balanceada. Las siguientes tablas permiten ver qué característica individual parece discriminar mejor el desayuno elegido.\n",
        "\n",
        "\n",
        "Por ejemplo, dado que se consume barrita de desayuno hay una mayor probabilidad de que sea mujer, o dado que se consume avena hay una buena probabilidad de que se trate de una persona de más de 42 años, particularmente los mayores de 60."
      ],
      "metadata": {
        "id": "OCpP2Qj0H_cp"
      }
    },
    {
      "cell_type": "markdown",
      "source": [
        "## Evaluation"
      ],
      "metadata": {
        "id": "7Gd5ywOVIBuH"
      }
    },
    {
      "cell_type": "markdown",
      "source": [
        "Creamos el objeto de predicción que nos permite ver el desempeño en la base de datos de validación"
      ],
      "metadata": {
        "id": "n4W_QhSdIC53"
      }
    },
    {
      "cell_type": "code",
      "source": [
        "# el modelo sintonizado\n",
        "\n",
        "prednaiveprob<-predict(naivetest, caso.test, type=\"raw\")\n"
      ],
      "metadata": {
        "id": "nuRei11E_asp"
      },
      "execution_count": null,
      "outputs": []
    },
    {
      "cell_type": "code",
      "source": [
        "prednaiveprob<-ifelse(prednaiveprob$X1 > 0.5, \"no\", \"si\")\n"
      ],
      "metadata": {
        "colab": {
          "base_uri": "https://localhost:8080/",
          "height": 228
        },
        "id": "4avuU86m831j",
        "outputId": "d38b1e9d-d587-4c82-ef3f-3a2cae8cdc17"
      },
      "execution_count": null,
      "outputs": [
        {
          "output_type": "error",
          "ename": "ERROR",
          "evalue": "Error in prednaiveprob$X1: $ operator is invalid for atomic vectors\n",
          "traceback": [
            "Error in prednaiveprob$X1: $ operator is invalid for atomic vectors\nTraceback:\n",
            "1. .handleSimpleError(function (cnd) \n . {\n .     watcher$capture_plot_and_output()\n .     cnd <- sanitize_call(cnd)\n .     watcher$push(cnd)\n .     switch(on_error, continue = invokeRestart(\"eval_continue\"), \n .         stop = invokeRestart(\"eval_stop\"), error = NULL)\n . }, \"$ operator is invalid for atomic vectors\", base::quote(prednaiveprob$X1))"
          ]
        }
      ]
    },
    {
      "cell_type": "code",
      "source": [
        "prednaiveprob<-predict(naivetest, caso.test, type=\"raw\")\n",
        "head(prednaiveprob)\n"
      ],
      "metadata": {
        "colab": {
          "base_uri": "https://localhost:8080/",
          "height": 255
        },
        "id": "FYpDQJSQ8-vL",
        "outputId": "7c782e59-32bb-4dcd-bc5c-72b274af6bc9"
      },
      "execution_count": null,
      "outputs": [
        {
          "output_type": "display_data",
          "data": {
            "text/html": [
              "<table class=\"dataframe\">\n",
              "<caption>A matrix: 6 × 2 of type dbl</caption>\n",
              "<thead>\n",
              "\t<tr><th scope=col>no</th><th scope=col>si</th></tr>\n",
              "</thead>\n",
              "<tbody>\n",
              "\t<tr><td>0.7221029</td><td>0.27789711</td></tr>\n",
              "\t<tr><td>0.3097446</td><td>0.69025540</td></tr>\n",
              "\t<tr><td>0.9270081</td><td>0.07299188</td></tr>\n",
              "\t<tr><td>0.2103945</td><td>0.78960553</td></tr>\n",
              "\t<tr><td>0.6464663</td><td>0.35353371</td></tr>\n",
              "\t<tr><td>0.9270081</td><td>0.07299188</td></tr>\n",
              "</tbody>\n",
              "</table>\n"
            ],
            "text/markdown": "\nA matrix: 6 × 2 of type dbl\n\n| no | si |\n|---|---|\n| 0.7221029 | 0.27789711 |\n| 0.3097446 | 0.69025540 |\n| 0.9270081 | 0.07299188 |\n| 0.2103945 | 0.78960553 |\n| 0.6464663 | 0.35353371 |\n| 0.9270081 | 0.07299188 |\n\n",
            "text/latex": "A matrix: 6 × 2 of type dbl\n\\begin{tabular}{ll}\n no & si\\\\\n\\hline\n\t 0.7221029 & 0.27789711\\\\\n\t 0.3097446 & 0.69025540\\\\\n\t 0.9270081 & 0.07299188\\\\\n\t 0.2103945 & 0.78960553\\\\\n\t 0.6464663 & 0.35353371\\\\\n\t 0.9270081 & 0.07299188\\\\\n\\end{tabular}\n",
            "text/plain": [
              "     no        si        \n",
              "[1,] 0.7221029 0.27789711\n",
              "[2,] 0.3097446 0.69025540\n",
              "[3,] 0.9270081 0.07299188\n",
              "[4,] 0.2103945 0.78960553\n",
              "[5,] 0.6464663 0.35353371\n",
              "[6,] 0.9270081 0.07299188"
            ]
          },
          "metadata": {}
        }
      ]
    },
    {
      "cell_type": "markdown",
      "source": [
        "# 1.\t(12) Dentro de su modelo, ensaye 3 valores del umbral de probabilidad, para decidir si una persona va a realizar una compra de un seguro de hogar.  ¿Cuál valor ofrece el mejor desempeño?\n",
        "\n"
      ],
      "metadata": {
        "id": "ZaBozGe6-rqe"
      }
    },
    {
      "cell_type": "code",
      "source": [
        " prednaive <- ifelse(prednaiveprob[, \"si\"] > 0.0\n",
        " , \"si\", \"no\")\n",
        " conf<-confusionMatrix(as.factor(prednaive),\n",
        "                          caso.test$compra, positive = \"si\")\n",
        "conf$table\n",
        "conf$byClass"
      ],
      "metadata": {
        "colab": {
          "base_uri": "https://localhost:8080/",
          "height": 173
        },
        "id": "CCE6jyuV9aCk",
        "outputId": "ab400440-5b35-4900-c8df-5aac09a5bc98"
      },
      "execution_count": null,
      "outputs": [
        {
          "output_type": "stream",
          "name": "stderr",
          "text": [
            "Warning message in confusionMatrix.default(as.factor(prednaive), caso.test$compra, :\n",
            "“Levels are not in the same order for reference and data. Refactoring data to match.”\n"
          ]
        },
        {
          "output_type": "display_data",
          "data": {
            "text/plain": [
              "          Reference\n",
              "Prediction   no   si\n",
              "        no    0    0\n",
              "        si 2467 1163"
            ]
          },
          "metadata": {}
        },
        {
          "output_type": "display_data",
          "data": {
            "text/html": [
              "<style>\n",
              ".dl-inline {width: auto; margin:0; padding: 0}\n",
              ".dl-inline>dt, .dl-inline>dd {float: none; width: auto; display: inline-block}\n",
              ".dl-inline>dt::after {content: \":\\0020\"; padding-right: .5ex}\n",
              ".dl-inline>dt:not(:first-of-type) {padding-left: .5ex}\n",
              "</style><dl class=dl-inline><dt>Sensitivity</dt><dd>1</dd><dt>Specificity</dt><dd>0</dd><dt>Pos Pred Value</dt><dd>0.320385674931129</dd><dt>Neg Pred Value</dt><dd>NaN</dd><dt>Precision</dt><dd>0.320385674931129</dd><dt>Recall</dt><dd>1</dd><dt>F1</dt><dd>0.48529104944711</dd><dt>Prevalence</dt><dd>0.320385674931129</dd><dt>Detection Rate</dt><dd>0.320385674931129</dd><dt>Detection Prevalence</dt><dd>1</dd><dt>Balanced Accuracy</dt><dd>0.5</dd></dl>\n"
            ],
            "text/markdown": "Sensitivity\n:   1Specificity\n:   0Pos Pred Value\n:   0.320385674931129Neg Pred Value\n:   NaNPrecision\n:   0.320385674931129Recall\n:   1F1\n:   0.48529104944711Prevalence\n:   0.320385674931129Detection Rate\n:   0.320385674931129Detection Prevalence\n:   1Balanced Accuracy\n:   0.5\n\n",
            "text/latex": "\\begin{description*}\n\\item[Sensitivity] 1\n\\item[Specificity] 0\n\\item[Pos Pred Value] 0.320385674931129\n\\item[Neg Pred Value] NaN\n\\item[Precision] 0.320385674931129\n\\item[Recall] 1\n\\item[F1] 0.48529104944711\n\\item[Prevalence] 0.320385674931129\n\\item[Detection Rate] 0.320385674931129\n\\item[Detection Prevalence] 1\n\\item[Balanced Accuracy] 0.5\n\\end{description*}\n",
            "text/plain": [
              "         Sensitivity          Specificity       Pos Pred Value \n",
              "           1.0000000            0.0000000            0.3203857 \n",
              "      Neg Pred Value            Precision               Recall \n",
              "                 NaN            0.3203857            1.0000000 \n",
              "                  F1           Prevalence       Detection Rate \n",
              "           0.4852910            0.3203857            0.3203857 \n",
              "Detection Prevalence    Balanced Accuracy \n",
              "           1.0000000            0.5000000 "
            ]
          },
          "metadata": {}
        }
      ]
    },
    {
      "cell_type": "code",
      "source": [
        "prednaive <- ifelse(prednaiveprob[, \"si\"] > 0.75, \"si\", \"no\")\n",
        " conf<-confusionMatrix(as.factor(prednaive),\n",
        "                          caso.test$compra, positive = \"si\")\n",
        "conf$table\n",
        "conf$byClass"
      ],
      "metadata": {
        "colab": {
          "base_uri": "https://localhost:8080/",
          "height": 156
        },
        "id": "Mr8pMZrv-6sU",
        "outputId": "2d95a41e-8f1f-4921-b9c5-e1742b729116"
      },
      "execution_count": null,
      "outputs": [
        {
          "output_type": "display_data",
          "data": {
            "text/plain": [
              "          Reference\n",
              "Prediction   no   si\n",
              "        no 2398 1019\n",
              "        si   69  144"
            ]
          },
          "metadata": {}
        },
        {
          "output_type": "display_data",
          "data": {
            "text/html": [
              "<style>\n",
              ".dl-inline {width: auto; margin:0; padding: 0}\n",
              ".dl-inline>dt, .dl-inline>dd {float: none; width: auto; display: inline-block}\n",
              ".dl-inline>dt::after {content: \":\\0020\"; padding-right: .5ex}\n",
              ".dl-inline>dt:not(:first-of-type) {padding-left: .5ex}\n",
              "</style><dl class=dl-inline><dt>Sensitivity</dt><dd>0.123817712811694</dd><dt>Specificity</dt><dd>0.97203080664775</dd><dt>Pos Pred Value</dt><dd>0.676056338028169</dd><dt>Neg Pred Value</dt><dd>0.701785191688616</dd><dt>Precision</dt><dd>0.676056338028169</dd><dt>Recall</dt><dd>0.123817712811694</dd><dt>F1</dt><dd>0.209302325581395</dd><dt>Prevalence</dt><dd>0.320385674931129</dd><dt>Detection Rate</dt><dd>0.0396694214876033</dd><dt>Detection Prevalence</dt><dd>0.0586776859504132</dd><dt>Balanced Accuracy</dt><dd>0.547924259729722</dd></dl>\n"
            ],
            "text/markdown": "Sensitivity\n:   0.123817712811694Specificity\n:   0.97203080664775Pos Pred Value\n:   0.676056338028169Neg Pred Value\n:   0.701785191688616Precision\n:   0.676056338028169Recall\n:   0.123817712811694F1\n:   0.209302325581395Prevalence\n:   0.320385674931129Detection Rate\n:   0.0396694214876033Detection Prevalence\n:   0.0586776859504132Balanced Accuracy\n:   0.547924259729722\n\n",
            "text/latex": "\\begin{description*}\n\\item[Sensitivity] 0.123817712811694\n\\item[Specificity] 0.97203080664775\n\\item[Pos Pred Value] 0.676056338028169\n\\item[Neg Pred Value] 0.701785191688616\n\\item[Precision] 0.676056338028169\n\\item[Recall] 0.123817712811694\n\\item[F1] 0.209302325581395\n\\item[Prevalence] 0.320385674931129\n\\item[Detection Rate] 0.0396694214876033\n\\item[Detection Prevalence] 0.0586776859504132\n\\item[Balanced Accuracy] 0.547924259729722\n\\end{description*}\n",
            "text/plain": [
              "         Sensitivity          Specificity       Pos Pred Value \n",
              "          0.12381771           0.97203081           0.67605634 \n",
              "      Neg Pred Value            Precision               Recall \n",
              "          0.70178519           0.67605634           0.12381771 \n",
              "                  F1           Prevalence       Detection Rate \n",
              "          0.20930233           0.32038567           0.03966942 \n",
              "Detection Prevalence    Balanced Accuracy \n",
              "          0.05867769           0.54792426 "
            ]
          },
          "metadata": {}
        }
      ]
    },
    {
      "cell_type": "code",
      "source": [
        "prednaive <- ifelse(prednaiveprob[, \"si\"] > 0.3, \"si\", \"no\")\n",
        " conf<-confusionMatrix(as.factor(prednaive),\n",
        "                          caso.test$compra, positive = \"si\")\n",
        "conf$table\n",
        "conf$byClass"
      ],
      "metadata": {
        "colab": {
          "base_uri": "https://localhost:8080/",
          "height": 156
        },
        "id": "y1vQ_fi2-9p9",
        "outputId": "5ecdb7b4-de99-4a98-c293-471da161b797"
      },
      "execution_count": null,
      "outputs": [
        {
          "output_type": "display_data",
          "data": {
            "text/plain": [
              "          Reference\n",
              "Prediction   no   si\n",
              "        no 1524  291\n",
              "        si  943  872"
            ]
          },
          "metadata": {}
        },
        {
          "output_type": "display_data",
          "data": {
            "text/html": [
              "<style>\n",
              ".dl-inline {width: auto; margin:0; padding: 0}\n",
              ".dl-inline>dt, .dl-inline>dd {float: none; width: auto; display: inline-block}\n",
              ".dl-inline>dt::after {content: \":\\0020\"; padding-right: .5ex}\n",
              ".dl-inline>dt:not(:first-of-type) {padding-left: .5ex}\n",
              "</style><dl class=dl-inline><dt>Sensitivity</dt><dd>0.749785038693035</dd><dt>Specificity</dt><dd>0.617754357519254</dd><dt>Pos Pred Value</dt><dd>0.480440771349862</dd><dt>Neg Pred Value</dt><dd>0.839669421487603</dd><dt>Precision</dt><dd>0.480440771349862</dd><dt>Recall</dt><dd>0.749785038693035</dd><dt>F1</dt><dd>0.585627938213566</dd><dt>Prevalence</dt><dd>0.320385674931129</dd><dt>Detection Rate</dt><dd>0.240220385674931</dd><dt>Detection Prevalence</dt><dd>0.5</dd><dt>Balanced Accuracy</dt><dd>0.683769698106145</dd></dl>\n"
            ],
            "text/markdown": "Sensitivity\n:   0.749785038693035Specificity\n:   0.617754357519254Pos Pred Value\n:   0.480440771349862Neg Pred Value\n:   0.839669421487603Precision\n:   0.480440771349862Recall\n:   0.749785038693035F1\n:   0.585627938213566Prevalence\n:   0.320385674931129Detection Rate\n:   0.240220385674931Detection Prevalence\n:   0.5Balanced Accuracy\n:   0.683769698106145\n\n",
            "text/latex": "\\begin{description*}\n\\item[Sensitivity] 0.749785038693035\n\\item[Specificity] 0.617754357519254\n\\item[Pos Pred Value] 0.480440771349862\n\\item[Neg Pred Value] 0.839669421487603\n\\item[Precision] 0.480440771349862\n\\item[Recall] 0.749785038693035\n\\item[F1] 0.585627938213566\n\\item[Prevalence] 0.320385674931129\n\\item[Detection Rate] 0.240220385674931\n\\item[Detection Prevalence] 0.5\n\\item[Balanced Accuracy] 0.683769698106145\n\\end{description*}\n",
            "text/plain": [
              "         Sensitivity          Specificity       Pos Pred Value \n",
              "           0.7497850            0.6177544            0.4804408 \n",
              "      Neg Pred Value            Precision               Recall \n",
              "           0.8396694            0.4804408            0.7497850 \n",
              "                  F1           Prevalence       Detection Rate \n",
              "           0.5856279            0.3203857            0.2402204 \n",
              "Detection Prevalence    Balanced Accuracy \n",
              "           0.5000000            0.6837697 "
            ]
          },
          "metadata": {}
        }
      ]
    },
    {
      "cell_type": "markdown",
      "source": [
        "## Conclusión"
      ],
      "metadata": {
        "id": "uHoFtdG5IUnU"
      }
    },
    {
      "cell_type": "markdown",
      "source": [
        "Para este modelo el mejor umbral es de 0.3 ya que da el mejor accuracy es de 0.683"
      ],
      "metadata": {
        "id": "Hp7anKjr_Nu2"
      }
    },
    {
      "cell_type": "markdown",
      "source": [
        "# CURVA ROC – AUC"
      ],
      "metadata": {
        "id": "rJ6ONtZkEmJ9"
      }
    },
    {
      "cell_type": "code",
      "source": [
        "#crear objeto de predicciones\n",
        "pr<-prediction(prednaiveprob[, \"si\"],caso.test$compra)\n",
        "#creacion del objeto de la curva\n",
        "curvaROC<-performance(pr,measure=\"tpr\",x.measure=\"fpr\")\n",
        "#grafico de la curva\n",
        "plot(curvaROC)\n",
        "\n",
        "\n"
      ],
      "metadata": {
        "colab": {
          "base_uri": "https://localhost:8080/",
          "height": 437
        },
        "id": "j6bbavm-D_E3",
        "outputId": "2062a78f-fffc-48dc-8cf9-7c663fca7c3a"
      },
      "execution_count": null,
      "outputs": [
        {
          "output_type": "display_data",
          "data": {
            "text/plain": [
              "plot without title"
            ],
            "image/png": "[encoded data removed]"
          },
          "metadata": {
            "image/png": {
              "width": 420,
              "height": 420
            }
          }
        }
      ]
    }
  ]
}